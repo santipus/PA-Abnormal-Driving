{
 "cells": [
  {
   "cell_type": "code",
   "execution_count": 185,
   "metadata": {},
   "outputs": [],
   "source": [
    "import pandas as pd\n",
    "df_zigzag = pd.read_csv('data/Zigzag_baru.csv')"
   ]
  },
  {
   "cell_type": "code",
   "execution_count": 186,
   "metadata": {},
   "outputs": [],
   "source": [
    "#Normalisasi Zigzag\n",
    "from sklearn import preprocessing\n",
    "import numpy as np\n",
    "\n",
    "df_zigzag = df_zigzag.iloc[:,6:12]\n",
    "\n",
    "x_array = np.array(df_zigzag ['AccelLPF x'])\n",
    "AccelLPF_x_zigzag_norm = preprocessing.normalize([x_array])\n",
    "x_array = np.array(df_zigzag ['AccelLPF y'])\n",
    "AccelLPF_y_zigzag_norm = preprocessing.normalize([x_array])\n",
    "x_array = np.array(df_zigzag ['AccelLPF z'])\n",
    "AccelLPF_z_zigzag_norm = preprocessing.normalize([x_array])\n",
    "x_array = np.array(df_zigzag ['GyroLPF x'])\n",
    "GyroLPF_x_zigzag_norm = preprocessing.normalize([x_array])\n",
    "x_array = np.array(df_zigzag ['GyroLPF y'])\n",
    "GyroLPF_y_zigzag_norm = preprocessing.normalize([x_array])\n",
    "x_array = np.array(df_zigzag ['GyroLPF z'])\n",
    "GyroLPF_z_zigzag_norm = preprocessing.normalize([x_array])"
   ]
  },
  {
   "cell_type": "code",
   "execution_count": 187,
   "metadata": {},
   "outputs": [],
   "source": [
    "import pandas as pd\n",
    "df_mengantuk = pd.read_csv('data/Mengantuk_baru.csv')"
   ]
  },
  {
   "cell_type": "code",
   "execution_count": 188,
   "metadata": {},
   "outputs": [],
   "source": [
    "#Normalisasi Mengantuk\n",
    "from sklearn import preprocessing\n",
    "import numpy as np\n",
    "\n",
    "df_mengantuk = df_mengantuk.iloc[:,6:12]\n",
    "\n",
    "x_array = np.array(df_mengantuk ['AccelLPF x'])\n",
    "AccelLPF_x_mengantuk_norm = preprocessing.normalize([x_array])\n",
    "x_array = np.array(df_mengantuk ['AccelLPF y'])\n",
    "AccelLPF_y_mengantuk_norm = preprocessing.normalize([x_array])\n",
    "x_array = np.array(df_mengantuk ['AccelLPF z'])\n",
    "AccelLPF_z_mengantuk_norm = preprocessing.normalize([x_array])\n",
    "x_array = np.array(df_mengantuk ['GyroLPF x'])\n",
    "GyroLPF_x_mengantuk_norm = preprocessing.normalize([x_array])\n",
    "x_array = np.array(df_mengantuk ['GyroLPF y'])\n",
    "GyroLPF_y_mengantuk_norm = preprocessing.normalize([x_array])\n",
    "x_array = np.array(df_mengantuk ['GyroLPF z'])\n",
    "GyroLPF_z_mengantuk_norm = preprocessing.normalize([x_array])"
   ]
  },
  {
   "cell_type": "code",
   "execution_count": 189,
   "metadata": {},
   "outputs": [],
   "source": [
    "import pandas as pd \n",
    "df_mendadak=pd.read_csv('data/Rem_mendadak_baru.csv')"
   ]
  },
  {
   "cell_type": "code",
   "execution_count": 190,
   "metadata": {},
   "outputs": [],
   "source": [
    "#Normalisasi Rem Mendadak\n",
    "from sklearn import preprocessing\n",
    "import numpy as np\n",
    "\n",
    "df_mendadak = df_mendadak.iloc[:,6:12]\n",
    "\n",
    "x_array = np.array(df_mendadak ['AccelLPF x'])\n",
    "AccelLPF_x_mendadak_norm = preprocessing.normalize([x_array])\n",
    "x_array = np.array(df_mendadak ['AccelLPF y'])\n",
    "AccelLPF_y_mendadak_norm = preprocessing.normalize([x_array])\n",
    "x_array = np.array(df_mendadak ['AccelLPF z'])\n",
    "AccelLPF_z_mendadak_norm = preprocessing.normalize([x_array])\n",
    "x_array = np.array(df_mendadak ['GyroLPF x'])\n",
    "GyroLPF_x_mendadak_norm = preprocessing.normalize([x_array])\n",
    "x_array = np.array(df_mendadak ['GyroLPF y'])\n",
    "GyroLPF_y_mendadak_norm = preprocessing.normalize([x_array])\n",
    "x_array = np.array(df_mendadak ['GyroLPF z'])\n",
    "GyroLPF_z_mendadak_norm = preprocessing.normalize([x_array])"
   ]
  },
  {
   "cell_type": "code",
   "execution_count": 191,
   "metadata": {},
   "outputs": [],
   "source": [
    "import pandas as pd \n",
    "df_tancapgas=pd.read_csv('data/Tancap_gas_baru.csv')"
   ]
  },
  {
   "cell_type": "code",
   "execution_count": 192,
   "metadata": {},
   "outputs": [],
   "source": [
    "#Normalisasi Tancap Gas\n",
    "from sklearn import preprocessing\n",
    "import numpy as np\n",
    "\n",
    "df_tancapgas = df_tancapgas.iloc[:,6:12]\n",
    "\n",
    "x_array = np.array(df_tancapgas ['AccelLPF x'])\n",
    "AccelLPF_x_tancapgas_norm = preprocessing.normalize([x_array])\n",
    "x_array = np.array(df_tancapgas ['AccelLPF y'])\n",
    "AccelLPF_y_tancapgas_norm = preprocessing.normalize([x_array])\n",
    "x_array = np.array(df_tancapgas ['AccelLPF z'])\n",
    "AccelLPF_z_tancapgas_norm = preprocessing.normalize([x_array])\n",
    "x_array = np.array(df_tancapgas ['GyroLPF x'])\n",
    "GyroLPF_x_tancapgas_norm = preprocessing.normalize([x_array])\n",
    "x_array = np.array(df_tancapgas ['GyroLPF y'])\n",
    "GyroLPF_y_tancapgas_norm = preprocessing.normalize([x_array])\n",
    "x_array = np.array(df_tancapgas ['GyroLPF z'])\n",
    "GyroLPF_z_tancapgas_norm = preprocessing.normalize([x_array])"
   ]
  },
  {
   "cell_type": "code",
   "execution_count": 193,
   "metadata": {},
   "outputs": [],
   "source": [
    "dta_zigzag = [AccelLPF_x_zigzag_norm, AccelLPF_y_zigzag_norm, AccelLPF_z_zigzag_norm, GyroLPF_x_zigzag_norm, GyroLPF_y_zigzag_norm, GyroLPF_z_zigzag_norm]\n",
    "dta_mengantuk = [AccelLPF_x_mengantuk_norm, AccelLPF_y_mengantuk_norm, AccelLPF_z_mengantuk_norm, GyroLPF_x_mengantuk_norm, GyroLPF_y_mengantuk_norm, GyroLPF_z_mengantuk_norm]\n",
    "dta_mendadak = [AccelLPF_x_mendadak_norm, AccelLPF_y_mendadak_norm, AccelLPF_z_mendadak_norm, GyroLPF_x_mendadak_norm, GyroLPF_y_mendadak_norm,GyroLPF_z_mendadak_norm]\n",
    "dta_tancapgas = [AccelLPF_x_tancapgas_norm, AccelLPF_y_tancapgas_norm, AccelLPF_z_tancapgas_norm, GyroLPF_x_tancapgas_norm, GyroLPF_y_tancapgas_norm, GyroLPF_z_tancapgas_norm]"
   ]
  },
  {
   "cell_type": "code",
   "execution_count": 194,
   "metadata": {},
   "outputs": [],
   "source": [
    "#zigzag\n",
    "zzg = []\n",
    "buff = []\n",
    "cage = 0\n",
    "holding = 0\n",
    "for a, b, c, d, e, f in zip(AccelLPF_x_zigzag_norm[0], AccelLPF_y_zigzag_norm[0], AccelLPF_z_zigzag_norm[0], GyroLPF_x_zigzag_norm[0], GyroLPF_y_zigzag_norm[0], GyroLPF_z_zigzag_norm[0]):\n",
    "  cage = cage + 1\n",
    "  buff.append(a)\n",
    "  buff.append(b)\n",
    "  buff.append(c)\n",
    "  buff.append(d)\n",
    "  buff.append(e)\n",
    "  buff.append(f)\n",
    "  if cage >= holding + 34:\n",
    "    holding = cage\n",
    "    zzg.append(buff)\n",
    "    buff=[]"
   ]
  },
  {
   "cell_type": "code",
   "execution_count": 195,
   "metadata": {},
   "outputs": [
    {
     "name": "stdout",
     "output_type": "stream",
     "text": [
      "151\n"
     ]
    }
   ],
   "source": [
    "print(len(zzg))"
   ]
  },
  {
   "cell_type": "code",
   "execution_count": 196,
   "metadata": {},
   "outputs": [],
   "source": [
    "#mengantuk\n",
    "ngantuk = []\n",
    "buff = []\n",
    "cage = 0\n",
    "holding = 0\n",
    "for a, b, c, d, e, f in zip(AccelLPF_x_mengantuk_norm[0], AccelLPF_y_mengantuk_norm[0], AccelLPF_z_mengantuk_norm[0], GyroLPF_x_mengantuk_norm[0], GyroLPF_y_mengantuk_norm[0], GyroLPF_z_mengantuk_norm[0]):\n",
    "  cage = cage + 1\n",
    "  buff.append(a)\n",
    "  buff.append(b)\n",
    "  buff.append(c)\n",
    "  buff.append(d)\n",
    "  buff.append(e)\n",
    "  buff.append(f)\n",
    "  if cage >= holding + 34:\n",
    "    holding = cage\n",
    "    ngantuk.append(buff)\n",
    "    buff=[]"
   ]
  },
  {
   "cell_type": "code",
   "execution_count": 197,
   "metadata": {},
   "outputs": [
    {
     "name": "stdout",
     "output_type": "stream",
     "text": [
      "88\n"
     ]
    }
   ],
   "source": [
    "print(len(ngantuk))"
   ]
  },
  {
   "cell_type": "code",
   "execution_count": 198,
   "metadata": {},
   "outputs": [],
   "source": [
    "#rem mendadak\n",
    "rem = []\n",
    "buff = []\n",
    "cage = 0\n",
    "holding = 0\n",
    "for a, b, c, d, e, f in zip(AccelLPF_x_mendadak_norm[0], AccelLPF_y_mendadak_norm[0], AccelLPF_z_mendadak_norm[0], GyroLPF_x_mendadak_norm[0], GyroLPF_y_mendadak_norm[0],GyroLPF_z_mendadak_norm[0]):\n",
    "  cage = cage + 1\n",
    "  buff.append(a)\n",
    "  buff.append(b)\n",
    "  buff.append(c)\n",
    "  buff.append(d)\n",
    "  buff.append(e)\n",
    "  buff.append(f)\n",
    "  if cage >= holding + 34:\n",
    "    holding = cage\n",
    "    rem.append(buff)\n",
    "    buff=[]"
   ]
  },
  {
   "cell_type": "code",
   "execution_count": 199,
   "metadata": {},
   "outputs": [
    {
     "name": "stdout",
     "output_type": "stream",
     "text": [
      "66\n"
     ]
    }
   ],
   "source": [
    "print(len(rem))"
   ]
  },
  {
   "cell_type": "code",
   "execution_count": 200,
   "metadata": {},
   "outputs": [],
   "source": [
    "#tancap gas\n",
    "gas = []\n",
    "buff = []\n",
    "cage = 0\n",
    "holding = 0\n",
    "for a, b, c, d, e, f in zip(AccelLPF_x_tancapgas_norm[0], AccelLPF_y_tancapgas_norm[0], AccelLPF_z_tancapgas_norm[0], GyroLPF_x_tancapgas_norm[0], GyroLPF_y_tancapgas_norm[0], GyroLPF_z_tancapgas_norm[0]):\n",
    "  cage = cage + 1\n",
    "  buff.append(a)\n",
    "  buff.append(b)\n",
    "  buff.append(c)\n",
    "  buff.append(d)\n",
    "  buff.append(e)\n",
    "  buff.append(f)\n",
    "  if cage >= holding + 34:\n",
    "    holding = cage\n",
    "    gas.append(buff)\n",
    "    buff=[]"
   ]
  },
  {
   "cell_type": "code",
   "execution_count": 201,
   "metadata": {},
   "outputs": [
    {
     "name": "stdout",
     "output_type": "stream",
     "text": [
      "99\n"
     ]
    }
   ],
   "source": [
    "print(len(gas))"
   ]
  },
  {
   "cell_type": "code",
   "execution_count": 202,
   "metadata": {},
   "outputs": [],
   "source": [
    "dataset = []\n",
    "for i in zzg: #setiap anggota zigzag menjadi i\n",
    "  dataset.append([i,0]) #anggota i ditambahkan ke dataset\n",
    "for i in ngantuk:\n",
    "  dataset.append([i,1])\n",
    "for i in rem:\n",
    "  dataset.append([i,2])\n",
    "for i in gas:\n",
    "  dataset.append([i,3])"
   ]
  },
  {
   "cell_type": "code",
   "execution_count": 203,
   "metadata": {},
   "outputs": [],
   "source": [
    "import random\n",
    "random.shuffle(dataset) #mengacak semua dataset"
   ]
  },
  {
   "cell_type": "code",
   "execution_count": 204,
   "metadata": {},
   "outputs": [
    {
     "name": "stdout",
     "output_type": "stream",
     "text": [
      "[[-0.011333669475964148, 0.01730471467630291, 0.019496295184959513, 0.005561603140969421, 0.03762667227922386, -0.0018011598565014634, -0.006063784555358124, 0.017078580055488932, 0.01959337629995813, 0.0037043574403732766, 0.02793093057885272, -0.010994400075396513, -0.0006297626736051759, 0.01747358577288581, 0.020119078231967118, -0.002944905766128442, 0.020149411021260336, -0.011994245612029227, 0.0015937434049434404, 0.017550347375123985, 0.018355069337554694, 0.014691874118224065, 0.006680929296738125, -0.014738215940070843, 0.004191003574054872, 0.004527985206434337, 0.0028012578675452623, -0.0007844789193260456, 0.0047768003275732605, 0.007645811107592589, 0.008016575791735288, 0.007863234108642954, 0.0060369178032333255, 0.00263344701715757, 0.02558693972021557, 0.01685983052903004, 0.008838796017862836, 0.009486701310596667, 0.008420530305985212, 0.0037368006071770263, 0.0367948823464856, 0.008090075909261096, 0.004971646935032815, 0.01079817297116167, 0.010478647393974604, 0.0021205839613417203, 0.02859479592572143, -0.0023555479385898503, 0.0022077491931956393, 0.013510105651321169, 0.010268733208703262, 0.0012926560686947627, 0.023893401145964128, -0.001112862364888258, 0.001967341250032669, 0.015785634774965095, 0.010008443033724397, 0.004314253158451156, 0.029555675715455976, 0.009560751404140026, -0.0001819442092399548, 0.016785489378917582, 0.009524569110555919, 0.005934937120308063, 0.03444623060014849, 0.005666826457573521, -0.0009946196316209307, 0.01731036680788447, 0.01051038385173252, 0.0042610069662835275, 0.025800461779676348, -0.003192287224045618, -0.002715332336180474, 0.017354768538365206, 0.012238474596190508, 0.003989199282630118, 0.018041839552047266, -0.004497267451319298, -0.009932299686793978, 0.017502647453113973, 0.011659938437045022, 0.00028128924464115856, 0.014409292644411388, -0.0028281185349997313, -0.013551499221926106, 0.018088433253915924, 0.010977194796621025, 0.006291353488904604, 0.011094682572076445, -0.0027530941403797003, -0.01858578668383734, 0.01809154923766141, 0.012019565906148885, 0.003990390358912883, 0.0039139643066249475, -0.008962396064972362, -0.01290650083949971, 0.019354242260007846, 0.011525617062210785, 0.001542307318124927, -0.002772693582531514, -0.007539045664105766, -0.009738748448528005, 0.01932665853861322, 0.013072893343033819, 0.0016888953456803998, -0.009571697442054298, -0.004172340716528809, -0.007343439544034513, 0.01844594960447768, 0.013672627607779481, 0.0019986380792987217, -0.003027940841474705, 0.009412779678927194, -0.005878370002886696, 0.017706731011162987, 0.01471135335270413, 0.002999414287811467, 0.006856324346210818, 0.012529699660786622, -0.0077232889994995335, 0.01761891054966289, 0.013826478236307267, -0.00010768497022040774, 0.006824972158054773, 0.0008652032324615304, -0.011056463232052187, 0.01770765704186159, 0.014606101764942933, 0.00035928536793164076, 0.006184432329739526, -0.0026309869996679262, -0.009306467676366075, 0.017684486669761548, 0.015356713712600957, 0.0032298964551805693, 0.002940824445509579, -0.004337811938065853, -0.009884970695182996, 0.01771266452691697, 0.015037115129646042, 0.0013561714820552134, 0.0002533998118229214, -0.0005509917506159025, -0.0061274562958479085, 0.018259750778299597, 0.016567507762397307, -0.00014139942351371296, -5.226096638982261e-06, 0.004980594399570628, -0.00500537211499114, 0.018378789429873914, 0.01767880569857979, -0.00790404360292543, 0.0037310873751867056, 0.0035175129247678855, 0.0032247376590223606, 0.020305454535615462, 0.01629759029923962, 0.0039179787580499986, 0.002683621089336162, -0.0028210839165715485, 0.00879297964659651, 0.01997932912655838, 0.017685394351406956, 0.0032554768688961883, -0.0013883114742261756, -0.004589350742113483, 0.007686058149263529, 0.02041529930531986, 0.017901753060126382, 0.0046336661533555095, -0.002108294031969383, 2.3118129330876467e-05, 0.004419011222398412, 0.02104735850263472, 0.01670534755711241, 0.0034080084023267146, -0.0009715798932270214, 0.005552834279722643, -0.006082645406709912, 0.019995998832347057, 0.015190917253094328, 0.003918117842749854, 0.005903665338239729, 0.005439533148422904, -0.00647286692984402, 0.018858224237564846, 0.015519940234409824, 0.004623456712417183, 0.011368610842831518, -0.0016737773941388114, -0.009163399327815586, 0.01806011262888941, 0.01481613430260825, 0.0014945486312715397, 0.007995941911011974, -0.007390143862300871, -0.012877350000652574, 0.017748662788280998, 0.015313506219299515, 0.0021756351347625292, 0.0031056460474789284, -0.012538253011877791], 3]\n"
     ]
    }
   ],
   "source": [
    "print(dataset[0])"
   ]
  },
  {
   "cell_type": "code",
   "execution_count": 205,
   "metadata": {},
   "outputs": [],
   "source": [
    "xx = [] #data training\n",
    "yy = [] #label dari dataset\n",
    "for i in dataset:\n",
    "  xx.append(np.array(i[0]))\n",
    "  yy.append(i[1])"
   ]
  },
  {
   "cell_type": "code",
   "execution_count": 206,
   "metadata": {},
   "outputs": [
    {
     "name": "stdout",
     "output_type": "stream",
     "text": [
      "(204,)\n"
     ]
    }
   ],
   "source": [
    "print(xx[0].shape)"
   ]
  },
  {
   "cell_type": "code",
   "execution_count": 207,
   "metadata": {},
   "outputs": [],
   "source": [
    "import pandas as pd\n",
    "from sklearn.model_selection import train_test_split\n",
    "from sklearn.svm import SVC\n",
    "import numpy as np\n",
    "\n",
    "from matplotlib import pyplot as plt\n",
    "%matplotlib inline"
   ]
  },
  {
   "cell_type": "code",
   "execution_count": 208,
   "metadata": {},
   "outputs": [],
   "source": [
    "X_train, X_test, y_train, y_test = train_test_split(np.array(xx), np.array(yy), test_size=0.2)"
   ]
  },
  {
   "cell_type": "code",
   "execution_count": 209,
   "metadata": {},
   "outputs": [
    {
     "name": "stdout",
     "output_type": "stream",
     "text": [
      "[3 0 0 0 2 1 1 0 1 3 1 2 0 0 0 3 1 0 1 1 3 1 3 0 0 0 0 1 0 1 0 0 2 3 1 3 2\n",
      " 2 2 3 3 0 1 0 3 2 1 0 2 0 2 3 0 1 0 0 0 0 3 1 3 2 0 1 0 0 3 3 1 2 0 1 3 0\n",
      " 3 0 1 3 0 0 0]\n"
     ]
    }
   ],
   "source": [
    "print(y_test)"
   ]
  },
  {
   "cell_type": "code",
   "execution_count": 210,
   "metadata": {},
   "outputs": [
    {
     "name": "stdout",
     "output_type": "stream",
     "text": [
      "(323, 204)\n"
     ]
    }
   ],
   "source": [
    "print(np.array(X_train).shape) \n",
    "# d2_train_dataset = X_train.reshape((nsamples,nx*ny))"
   ]
  },
  {
   "cell_type": "code",
   "execution_count": 211,
   "metadata": {},
   "outputs": [],
   "source": [
    "model = SVC(kernel='linear', C=1E4, max_iter=-1)"
   ]
  },
  {
   "cell_type": "code",
   "execution_count": 212,
   "metadata": {},
   "outputs": [
    {
     "data": {
      "text/html": [
       "<style>#sk-container-id-6 {color: black;background-color: white;}#sk-container-id-6 pre{padding: 0;}#sk-container-id-6 div.sk-toggleable {background-color: white;}#sk-container-id-6 label.sk-toggleable__label {cursor: pointer;display: block;width: 100%;margin-bottom: 0;padding: 0.3em;box-sizing: border-box;text-align: center;}#sk-container-id-6 label.sk-toggleable__label-arrow:before {content: \"▸\";float: left;margin-right: 0.25em;color: #696969;}#sk-container-id-6 label.sk-toggleable__label-arrow:hover:before {color: black;}#sk-container-id-6 div.sk-estimator:hover label.sk-toggleable__label-arrow:before {color: black;}#sk-container-id-6 div.sk-toggleable__content {max-height: 0;max-width: 0;overflow: hidden;text-align: left;background-color: #f0f8ff;}#sk-container-id-6 div.sk-toggleable__content pre {margin: 0.2em;color: black;border-radius: 0.25em;background-color: #f0f8ff;}#sk-container-id-6 input.sk-toggleable__control:checked~div.sk-toggleable__content {max-height: 200px;max-width: 100%;overflow: auto;}#sk-container-id-6 input.sk-toggleable__control:checked~label.sk-toggleable__label-arrow:before {content: \"▾\";}#sk-container-id-6 div.sk-estimator input.sk-toggleable__control:checked~label.sk-toggleable__label {background-color: #d4ebff;}#sk-container-id-6 div.sk-label input.sk-toggleable__control:checked~label.sk-toggleable__label {background-color: #d4ebff;}#sk-container-id-6 input.sk-hidden--visually {border: 0;clip: rect(1px 1px 1px 1px);clip: rect(1px, 1px, 1px, 1px);height: 1px;margin: -1px;overflow: hidden;padding: 0;position: absolute;width: 1px;}#sk-container-id-6 div.sk-estimator {font-family: monospace;background-color: #f0f8ff;border: 1px dotted black;border-radius: 0.25em;box-sizing: border-box;margin-bottom: 0.5em;}#sk-container-id-6 div.sk-estimator:hover {background-color: #d4ebff;}#sk-container-id-6 div.sk-parallel-item::after {content: \"\";width: 100%;border-bottom: 1px solid gray;flex-grow: 1;}#sk-container-id-6 div.sk-label:hover label.sk-toggleable__label {background-color: #d4ebff;}#sk-container-id-6 div.sk-serial::before {content: \"\";position: absolute;border-left: 1px solid gray;box-sizing: border-box;top: 0;bottom: 0;left: 50%;z-index: 0;}#sk-container-id-6 div.sk-serial {display: flex;flex-direction: column;align-items: center;background-color: white;padding-right: 0.2em;padding-left: 0.2em;position: relative;}#sk-container-id-6 div.sk-item {position: relative;z-index: 1;}#sk-container-id-6 div.sk-parallel {display: flex;align-items: stretch;justify-content: center;background-color: white;position: relative;}#sk-container-id-6 div.sk-item::before, #sk-container-id-6 div.sk-parallel-item::before {content: \"\";position: absolute;border-left: 1px solid gray;box-sizing: border-box;top: 0;bottom: 0;left: 50%;z-index: -1;}#sk-container-id-6 div.sk-parallel-item {display: flex;flex-direction: column;z-index: 1;position: relative;background-color: white;}#sk-container-id-6 div.sk-parallel-item:first-child::after {align-self: flex-end;width: 50%;}#sk-container-id-6 div.sk-parallel-item:last-child::after {align-self: flex-start;width: 50%;}#sk-container-id-6 div.sk-parallel-item:only-child::after {width: 0;}#sk-container-id-6 div.sk-dashed-wrapped {border: 1px dashed gray;margin: 0 0.4em 0.5em 0.4em;box-sizing: border-box;padding-bottom: 0.4em;background-color: white;}#sk-container-id-6 div.sk-label label {font-family: monospace;font-weight: bold;display: inline-block;line-height: 1.2em;}#sk-container-id-6 div.sk-label-container {text-align: center;}#sk-container-id-6 div.sk-container {/* jupyter's `normalize.less` sets `[hidden] { display: none; }` but bootstrap.min.css set `[hidden] { display: none !important; }` so we also need the `!important` here to be able to override the default hidden behavior on the sphinx rendered scikit-learn.org. See: https://github.com/scikit-learn/scikit-learn/issues/21755 */display: inline-block !important;position: relative;}#sk-container-id-6 div.sk-text-repr-fallback {display: none;}</style><div id=\"sk-container-id-6\" class=\"sk-top-container\"><div class=\"sk-text-repr-fallback\"><pre>SVC(C=10000.0, kernel=&#x27;linear&#x27;)</pre><b>In a Jupyter environment, please rerun this cell to show the HTML representation or trust the notebook. <br />On GitHub, the HTML representation is unable to render, please try loading this page with nbviewer.org.</b></div><div class=\"sk-container\" hidden><div class=\"sk-item\"><div class=\"sk-estimator sk-toggleable\"><input class=\"sk-toggleable__control sk-hidden--visually\" id=\"sk-estimator-id-6\" type=\"checkbox\" checked><label for=\"sk-estimator-id-6\" class=\"sk-toggleable__label sk-toggleable__label-arrow\">SVC</label><div class=\"sk-toggleable__content\"><pre>SVC(C=10000.0, kernel=&#x27;linear&#x27;)</pre></div></div></div></div></div>"
      ],
      "text/plain": [
       "SVC(C=10000.0, kernel='linear')"
      ]
     },
     "execution_count": 212,
     "metadata": {},
     "output_type": "execute_result"
    }
   ],
   "source": [
    "model.fit(X_train, y_train)"
   ]
  },
  {
   "cell_type": "code",
   "execution_count": 213,
   "metadata": {},
   "outputs": [
    {
     "name": "stdout",
     "output_type": "stream",
     "text": [
      "[3 0 0 0 2 2 1 0 3 2 1 3 0 0 0 3 2 0 2 1 1 1 3 0 0 0 0 1 0 2 0 0 3 1 1 1 1\n",
      " 2 1 3 1 0 1 0 3 2 1 0 1 0 1 0 0 1 0 0 0 0 0 3 3 2 3 1 0 0 3 1 1 2 0 1 3 0\n",
      " 3 0 1 3 0 0 0]\n"
     ]
    }
   ],
   "source": [
    "predictions = model.predict(X_test)\n",
    "print(predictions)"
   ]
  },
  {
   "cell_type": "code",
   "execution_count": 214,
   "metadata": {},
   "outputs": [],
   "source": [
    "percentage = model.score(X_test, y_test)"
   ]
  },
  {
   "cell_type": "code",
   "execution_count": 215,
   "metadata": {},
   "outputs": [
    {
     "name": "stdout",
     "output_type": "stream",
     "text": [
      "Confusion Matrix\n",
      "[[32  0  0  1]\n",
      " [ 0 13  4  2]\n",
      " [ 0  4  5  2]\n",
      " [ 2  5  1 10]]\n",
      "Test Set: 81\n",
      "Accuracy = 74.07407407407408 %\n"
     ]
    }
   ],
   "source": [
    "from sklearn.metrics import confusion_matrix\n",
    "res = confusion_matrix(y_test, predictions)\n",
    "print(\"Confusion Matrix\")\n",
    "print(res)\n",
    "print(f\"Test Set: {len(X_test)}\")\n",
    "print(f\"Accuracy = {percentage*100} %\")"
   ]
  }
 ],
 "metadata": {
  "kernelspec": {
   "display_name": "Python 3.10.7 64-bit",
   "language": "python",
   "name": "python3"
  },
  "language_info": {
   "codemirror_mode": {
    "name": "ipython",
    "version": 3
   },
   "file_extension": ".py",
   "mimetype": "text/x-python",
   "name": "python",
   "nbconvert_exporter": "python",
   "pygments_lexer": "ipython3",
   "version": "3.10.7"
  },
  "orig_nbformat": 4,
  "vscode": {
   "interpreter": {
    "hash": "f2ccb58c476f33ba3e3aee7ac07234ef6b8217ef24ad64d2a7d4fed1a57c1cd2"
   }
  }
 },
 "nbformat": 4,
 "nbformat_minor": 2
}
